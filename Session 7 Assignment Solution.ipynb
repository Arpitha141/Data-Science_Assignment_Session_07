{
 "cells": [
  {
   "cell_type": "markdown",
   "metadata": {},
   "source": [
    "## Problem Statement \n",
    "\n",
    "Given a sequence of n values x1, x2, ..., xn and a window size k>0, the k-th moving                  average of the given sequence is defined as follows: \n",
    " \n",
    "The moving average sequence has n-k+1 elements as shown below. \n",
    " \n",
    "The moving averages with k=4 of a ten-value sequence (n=10) is shown below \n",
    " \n",
    "   i     1   2   3   4   5   6   7   8   9 10\n",
    "   \n",
    "   =====  ==  ==  ==  ==  ==  ==  ==  ==  ==  ==\n",
    "   \n",
    "   Input  10  20  30  40  50  60  70  80  90 100 \n",
    "   \n",
    "   y1     25 = (10+20+30+40)/4 \n",
    "   \n",
    "   y2         35 = (20+30+40+50)/4 \n",
    "   \n",
    "   y3             45 = (30+40+50+60)/4\n",
    "   \n",
    "   y4                 55 = (40+50+60+70)/4 \n",
    "   \n",
    "   y5                     65 = (50+60+70+80)/4 \n",
    "   \n",
    "   y6                         75 = (60+70+80+90)/4 \n",
    "   \n",
    "   y7                             85 = (70+80+90+100)/4 \n",
    " \n",
    "Thus, the moving average sequence has n-k+1=10-4+1=7 values. "
   ]
  },
  {
   "cell_type": "markdown",
   "metadata": {},
   "source": [
    "## Write a function to find moving average in an array over a window:  \n",
    "Test it over [3, 5, 7, 2, 8, 10, 11, 65, 72, 81, 99, 100, 150] and window of 3. "
   ]
  },
  {
   "cell_type": "code",
   "execution_count": 1,
   "metadata": {},
   "outputs": [],
   "source": [
    "#import numpy\n",
    "import numpy as np"
   ]
  },
  {
   "cell_type": "code",
   "execution_count": 3,
   "metadata": {},
   "outputs": [
    {
     "name": "stdout",
     "output_type": "stream",
     "text": [
      "Final list of moving average ::   [  5.           4.66666667   5.66666667   6.66666667   9.66666667\n",
      "  28.66666667  49.33333333  72.66666667  84.          93.33333333\n",
      " 116.33333333]\n"
     ]
    }
   ],
   "source": [
    "# Implementation of moving_averages based on convolution technique.\n",
    "\n",
    "\n",
    "input_array = [3, 5, 7, 2, 8, 10, 11, 65, 72, 81, 99, 100, 150]\n",
    "k = 3\n",
    "#define an empty list for holding the moving average sequence. \n",
    "moving_average_result = list()\n",
    "\n",
    "#Repeat elements of an array . The number of repetitions for each element is 3 \n",
    "weights = np.repeat(1.0, k)/k\n",
    "\n",
    "#the discrete , linear convolution for the inupt_array \n",
    "moving_average_result = np.convolve(input_array, weights, 'valid')\n",
    "\n",
    "## print final list of moving averages\n",
    "print (\"Final list of moving average ::   \" + str(moving_average_result))"
   ]
  },
  {
   "cell_type": "code",
   "execution_count": 4,
   "metadata": {},
   "outputs": [
    {
     "name": "stdout",
     "output_type": "stream",
     "text": [
      "Calculating average for windowed array [3 5 7] result : 5.0\n",
      "Calculating average for windowed array [5 7 2] result : 4.666666666666667\n",
      "Calculating average for windowed array [7 2 8] result : 5.666666666666667\n",
      "Calculating average for windowed array [ 2  8 10] result : 6.666666666666667\n",
      "Calculating average for windowed array [ 8 10 11] result : 9.666666666666666\n",
      "Calculating average for windowed array [10 11 65] result : 28.666666666666668\n",
      "Calculating average for windowed array [11 65 72] result : 49.333333333333336\n",
      "Calculating average for windowed array [65 72 81] result : 72.66666666666667\n",
      "Calculating average for windowed array [72 81 99] result : 84.0\n",
      "Calculating average for windowed array [ 81  99 100] result : 93.33333333333333\n",
      "Calculating average for windowed array [ 99 100 150] result : 116.33333333333333\n",
      "\n",
      "\n",
      "\n",
      "Final list of moving average ::  [5.0, 4.666666666666667, 5.666666666666667, 6.666666666666667, 9.666666666666666, 28.666666666666668, 49.333333333333336, 72.66666666666667, 84.0, 93.33333333333333, 116.33333333333333]\n"
     ]
    }
   ],
   "source": [
    "#implementation of moving_averages using normal functionality.\n",
    "\n",
    "input_array = [3, 5, 7, 2, 8, 10, 11, 65, 72, 81, 99, 100, 150]\n",
    "k = 3\n",
    "moving_average_result = list()\n",
    "\n",
    "for start_index in range(0,len(input_array)):\n",
    "    \n",
    "    ## Set Start and End of windowed array \n",
    "    end_index = start_index + k\n",
    "    \n",
    "    ## Stop looping once end_index reaches input_array length\n",
    "    if end_index > len(input_array):\n",
    "        break\n",
    "    \n",
    "    ## Get windowed array from the input array\n",
    "    windowed_array = np.take(input_array, range(start_index, end_index))\n",
    "    \n",
    "    \n",
    "    ## On windowed array, take average of all individual elements\n",
    "\n",
    "    result = np.average(windowed_array)\n",
    "    print (\"Calculating average for windowed array \" +str(windowed_array) + ' result : ' +str(result))\n",
    "    \n",
    "    ## Append result_average for this window elements to the final list\n",
    "    moving_average_result.append(result)\n",
    "\n",
    "\n",
    "## print final list of moving averages\n",
    "print('\\n\\n')\n",
    "print (\"Final list of moving average ::  \" + str(moving_average_result))"
   ]
  },
  {
   "cell_type": "code",
   "execution_count": null,
   "metadata": {},
   "outputs": [],
   "source": []
  }
 ],
 "metadata": {
  "kernelspec": {
   "display_name": "Python 3",
   "language": "python",
   "name": "python3"
  },
  "language_info": {
   "codemirror_mode": {
    "name": "ipython",
    "version": 3
   },
   "file_extension": ".py",
   "mimetype": "text/x-python",
   "name": "python",
   "nbconvert_exporter": "python",
   "pygments_lexer": "ipython3",
   "version": "3.7.0"
  }
 },
 "nbformat": 4,
 "nbformat_minor": 2
}
